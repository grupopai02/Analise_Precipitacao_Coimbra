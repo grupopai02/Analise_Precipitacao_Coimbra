{
 "cells": [
  {
   "cell_type": "code",
   "execution_count": 16,
   "metadata": {},
   "outputs": [
    {
     "data": {
      "text/html": [
       "<div>\n",
       "<style scoped>\n",
       "    .dataframe tbody tr th:only-of-type {\n",
       "        vertical-align: middle;\n",
       "    }\n",
       "\n",
       "    .dataframe tbody tr th {\n",
       "        vertical-align: top;\n",
       "    }\n",
       "\n",
       "    .dataframe thead th {\n",
       "        text-align: right;\n",
       "    }\n",
       "</style>\n",
       "<table border=\"1\" class=\"dataframe\">\n",
       "  <thead>\n",
       "    <tr style=\"text-align: right;\">\n",
       "      <th></th>\n",
       "      <th>date</th>\n",
       "      <th>minimum</th>\n",
       "      <th>maximum</th>\n",
       "      <th>range</th>\n",
       "      <th>mean</th>\n",
       "      <th>std</th>\n",
       "    </tr>\n",
       "  </thead>\n",
       "  <tbody>\n",
       "    <tr>\n",
       "      <th>0</th>\n",
       "      <td>2021-01-30</td>\n",
       "      <td>8.700006</td>\n",
       "      <td>11.444733</td>\n",
       "      <td>2.744727</td>\n",
       "      <td>9.172954</td>\n",
       "      <td>0.564608</td>\n",
       "    </tr>\n",
       "    <tr>\n",
       "      <th>1</th>\n",
       "      <td>2021-02-01</td>\n",
       "      <td>2.567557</td>\n",
       "      <td>4.642728</td>\n",
       "      <td>2.075171</td>\n",
       "      <td>4.233779</td>\n",
       "      <td>0.302040</td>\n",
       "    </tr>\n",
       "    <tr>\n",
       "      <th>2</th>\n",
       "      <td>2021-02-02</td>\n",
       "      <td>1.206398</td>\n",
       "      <td>4.369296</td>\n",
       "      <td>3.162898</td>\n",
       "      <td>2.353047</td>\n",
       "      <td>0.520955</td>\n",
       "    </tr>\n",
       "    <tr>\n",
       "      <th>3</th>\n",
       "      <td>2021-02-03</td>\n",
       "      <td>5.090485</td>\n",
       "      <td>8.743361</td>\n",
       "      <td>3.652877</td>\n",
       "      <td>5.875230</td>\n",
       "      <td>0.608710</td>\n",
       "    </tr>\n",
       "    <tr>\n",
       "      <th>4</th>\n",
       "      <td>2021-02-04</td>\n",
       "      <td>0.000020</td>\n",
       "      <td>1.801145</td>\n",
       "      <td>1.801124</td>\n",
       "      <td>0.441124</td>\n",
       "      <td>0.342296</td>\n",
       "    </tr>\n",
       "    <tr>\n",
       "      <th>...</th>\n",
       "      <td>...</td>\n",
       "      <td>...</td>\n",
       "      <td>...</td>\n",
       "      <td>...</td>\n",
       "      <td>...</td>\n",
       "      <td>...</td>\n",
       "    </tr>\n",
       "    <tr>\n",
       "      <th>80</th>\n",
       "      <td>2021-04-24</td>\n",
       "      <td>0.715430</td>\n",
       "      <td>4.216523</td>\n",
       "      <td>3.501093</td>\n",
       "      <td>1.931542</td>\n",
       "      <td>0.537566</td>\n",
       "    </tr>\n",
       "    <tr>\n",
       "      <th>81</th>\n",
       "      <td>2021-04-25</td>\n",
       "      <td>21.600065</td>\n",
       "      <td>32.322887</td>\n",
       "      <td>10.722822</td>\n",
       "      <td>23.854709</td>\n",
       "      <td>2.240275</td>\n",
       "    </tr>\n",
       "    <tr>\n",
       "      <th>82</th>\n",
       "      <td>2021-04-26</td>\n",
       "      <td>1.627104</td>\n",
       "      <td>9.099984</td>\n",
       "      <td>7.472880</td>\n",
       "      <td>7.813742</td>\n",
       "      <td>1.678053</td>\n",
       "    </tr>\n",
       "    <tr>\n",
       "      <th>83</th>\n",
       "      <td>2021-04-27</td>\n",
       "      <td>0.000001</td>\n",
       "      <td>0.158754</td>\n",
       "      <td>0.158753</td>\n",
       "      <td>0.024669</td>\n",
       "      <td>0.025585</td>\n",
       "    </tr>\n",
       "    <tr>\n",
       "      <th>84</th>\n",
       "      <td>2021-04-28</td>\n",
       "      <td>0.200020</td>\n",
       "      <td>1.637233</td>\n",
       "      <td>1.437213</td>\n",
       "      <td>0.487878</td>\n",
       "      <td>0.254882</td>\n",
       "    </tr>\n",
       "  </tbody>\n",
       "</table>\n",
       "<p>85 rows × 6 columns</p>\n",
       "</div>"
      ],
      "text/plain": [
       "          date    minimum    maximum      range       mean       std\n",
       "0   2021-01-30   8.700006  11.444733   2.744727   9.172954  0.564608\n",
       "1   2021-02-01   2.567557   4.642728   2.075171   4.233779  0.302040\n",
       "2   2021-02-02   1.206398   4.369296   3.162898   2.353047  0.520955\n",
       "3   2021-02-03   5.090485   8.743361   3.652877   5.875230  0.608710\n",
       "4   2021-02-04   0.000020   1.801145   1.801124   0.441124  0.342296\n",
       "..         ...        ...        ...        ...        ...       ...\n",
       "80  2021-04-24   0.715430   4.216523   3.501093   1.931542  0.537566\n",
       "81  2021-04-25  21.600065  32.322887  10.722822  23.854709  2.240275\n",
       "82  2021-04-26   1.627104   9.099984   7.472880   7.813742  1.678053\n",
       "83  2021-04-27   0.000001   0.158754   0.158753   0.024669  0.025585\n",
       "84  2021-04-28   0.200020   1.637233   1.437213   0.487878  0.254882\n",
       "\n",
       "[85 rows x 6 columns]"
      ]
     },
     "execution_count": 16,
     "metadata": {},
     "output_type": "execute_result"
    }
   ],
   "source": [
    "import matplotlib.pyplot as plt\n",
    "import pandas as pd\n",
    "\n",
    "df_prec = pd.read_csv('Precipitação_coimbra.csv')\n",
    "\n",
    "df_prec"
   ]
  },
  {
   "cell_type": "markdown",
   "metadata": {},
   "source": [
    "### *Primeiras 5 linhas do conjunto de dados*"
   ]
  },
  {
   "cell_type": "code",
   "execution_count": 17,
   "metadata": {},
   "outputs": [
    {
     "data": {
      "text/html": [
       "<div>\n",
       "<style scoped>\n",
       "    .dataframe tbody tr th:only-of-type {\n",
       "        vertical-align: middle;\n",
       "    }\n",
       "\n",
       "    .dataframe tbody tr th {\n",
       "        vertical-align: top;\n",
       "    }\n",
       "\n",
       "    .dataframe thead th {\n",
       "        text-align: right;\n",
       "    }\n",
       "</style>\n",
       "<table border=\"1\" class=\"dataframe\">\n",
       "  <thead>\n",
       "    <tr style=\"text-align: right;\">\n",
       "      <th></th>\n",
       "      <th>date</th>\n",
       "      <th>minimum</th>\n",
       "      <th>maximum</th>\n",
       "      <th>range</th>\n",
       "      <th>mean</th>\n",
       "      <th>std</th>\n",
       "    </tr>\n",
       "  </thead>\n",
       "  <tbody>\n",
       "    <tr>\n",
       "      <th>0</th>\n",
       "      <td>2021-01-30</td>\n",
       "      <td>8.700006</td>\n",
       "      <td>11.444733</td>\n",
       "      <td>2.744727</td>\n",
       "      <td>9.172954</td>\n",
       "      <td>0.564608</td>\n",
       "    </tr>\n",
       "    <tr>\n",
       "      <th>1</th>\n",
       "      <td>2021-02-01</td>\n",
       "      <td>2.567557</td>\n",
       "      <td>4.642728</td>\n",
       "      <td>2.075171</td>\n",
       "      <td>4.233779</td>\n",
       "      <td>0.302040</td>\n",
       "    </tr>\n",
       "    <tr>\n",
       "      <th>2</th>\n",
       "      <td>2021-02-02</td>\n",
       "      <td>1.206398</td>\n",
       "      <td>4.369296</td>\n",
       "      <td>3.162898</td>\n",
       "      <td>2.353047</td>\n",
       "      <td>0.520955</td>\n",
       "    </tr>\n",
       "    <tr>\n",
       "      <th>3</th>\n",
       "      <td>2021-02-03</td>\n",
       "      <td>5.090485</td>\n",
       "      <td>8.743361</td>\n",
       "      <td>3.652877</td>\n",
       "      <td>5.875230</td>\n",
       "      <td>0.608710</td>\n",
       "    </tr>\n",
       "    <tr>\n",
       "      <th>4</th>\n",
       "      <td>2021-02-04</td>\n",
       "      <td>0.000020</td>\n",
       "      <td>1.801145</td>\n",
       "      <td>1.801124</td>\n",
       "      <td>0.441124</td>\n",
       "      <td>0.342296</td>\n",
       "    </tr>\n",
       "  </tbody>\n",
       "</table>\n",
       "</div>"
      ],
      "text/plain": [
       "         date   minimum    maximum     range      mean       std\n",
       "0  2021-01-30  8.700006  11.444733  2.744727  9.172954  0.564608\n",
       "1  2021-02-01  2.567557   4.642728  2.075171  4.233779  0.302040\n",
       "2  2021-02-02  1.206398   4.369296  3.162898  2.353047  0.520955\n",
       "3  2021-02-03  5.090485   8.743361  3.652877  5.875230  0.608710\n",
       "4  2021-02-04  0.000020   1.801145  1.801124  0.441124  0.342296"
      ]
     },
     "execution_count": 17,
     "metadata": {},
     "output_type": "execute_result"
    }
   ],
   "source": [
    "df_prec.head()"
   ]
  },
  {
   "cell_type": "markdown",
   "metadata": {},
   "source": [
    "### *Últimas 5 linhas do conjunto de dados*"
   ]
  },
  {
   "cell_type": "code",
   "execution_count": 3,
   "metadata": {},
   "outputs": [
    {
     "data": {
      "text/html": [
       "<div>\n",
       "<style scoped>\n",
       "    .dataframe tbody tr th:only-of-type {\n",
       "        vertical-align: middle;\n",
       "    }\n",
       "\n",
       "    .dataframe tbody tr th {\n",
       "        vertical-align: top;\n",
       "    }\n",
       "\n",
       "    .dataframe thead th {\n",
       "        text-align: right;\n",
       "    }\n",
       "</style>\n",
       "<table border=\"1\" class=\"dataframe\">\n",
       "  <thead>\n",
       "    <tr style=\"text-align: right;\">\n",
       "      <th></th>\n",
       "      <th>date</th>\n",
       "      <th>minimum</th>\n",
       "      <th>maximum</th>\n",
       "      <th>range</th>\n",
       "      <th>mean</th>\n",
       "      <th>std</th>\n",
       "    </tr>\n",
       "  </thead>\n",
       "  <tbody>\n",
       "    <tr>\n",
       "      <th>80</th>\n",
       "      <td>2021-04-24</td>\n",
       "      <td>0.715430</td>\n",
       "      <td>4.216523</td>\n",
       "      <td>3.501093</td>\n",
       "      <td>1.931542</td>\n",
       "      <td>0.537566</td>\n",
       "    </tr>\n",
       "    <tr>\n",
       "      <th>81</th>\n",
       "      <td>2021-04-25</td>\n",
       "      <td>21.600065</td>\n",
       "      <td>32.322887</td>\n",
       "      <td>10.722822</td>\n",
       "      <td>23.854709</td>\n",
       "      <td>2.240275</td>\n",
       "    </tr>\n",
       "    <tr>\n",
       "      <th>82</th>\n",
       "      <td>2021-04-26</td>\n",
       "      <td>1.627104</td>\n",
       "      <td>9.099984</td>\n",
       "      <td>7.472880</td>\n",
       "      <td>7.813742</td>\n",
       "      <td>1.678053</td>\n",
       "    </tr>\n",
       "    <tr>\n",
       "      <th>83</th>\n",
       "      <td>2021-04-27</td>\n",
       "      <td>0.000001</td>\n",
       "      <td>0.158754</td>\n",
       "      <td>0.158753</td>\n",
       "      <td>0.024669</td>\n",
       "      <td>0.025585</td>\n",
       "    </tr>\n",
       "    <tr>\n",
       "      <th>84</th>\n",
       "      <td>2021-04-28</td>\n",
       "      <td>0.200020</td>\n",
       "      <td>1.637233</td>\n",
       "      <td>1.437213</td>\n",
       "      <td>0.487878</td>\n",
       "      <td>0.254882</td>\n",
       "    </tr>\n",
       "  </tbody>\n",
       "</table>\n",
       "</div>"
      ],
      "text/plain": [
       "          date    minimum    maximum      range       mean       std\n",
       "80  2021-04-24   0.715430   4.216523   3.501093   1.931542  0.537566\n",
       "81  2021-04-25  21.600065  32.322887  10.722822  23.854709  2.240275\n",
       "82  2021-04-26   1.627104   9.099984   7.472880   7.813742  1.678053\n",
       "83  2021-04-27   0.000001   0.158754   0.158753   0.024669  0.025585\n",
       "84  2021-04-28   0.200020   1.637233   1.437213   0.487878  0.254882"
      ]
     },
     "execution_count": 3,
     "metadata": {},
     "output_type": "execute_result"
    }
   ],
   "source": [
    "df_prec.tail()"
   ]
  },
  {
   "cell_type": "markdown",
   "metadata": {},
   "source": [
    "## *Definição da coluna \"date\" como coluna principal para ser mais fácil a busca de dados*"
   ]
  },
  {
   "cell_type": "code",
   "execution_count": 18,
   "metadata": {},
   "outputs": [
    {
     "data": {
      "text/html": [
       "<div>\n",
       "<style scoped>\n",
       "    .dataframe tbody tr th:only-of-type {\n",
       "        vertical-align: middle;\n",
       "    }\n",
       "\n",
       "    .dataframe tbody tr th {\n",
       "        vertical-align: top;\n",
       "    }\n",
       "\n",
       "    .dataframe thead th {\n",
       "        text-align: right;\n",
       "    }\n",
       "</style>\n",
       "<table border=\"1\" class=\"dataframe\">\n",
       "  <thead>\n",
       "    <tr style=\"text-align: right;\">\n",
       "      <th></th>\n",
       "      <th>minimum</th>\n",
       "      <th>maximum</th>\n",
       "      <th>range</th>\n",
       "      <th>mean</th>\n",
       "      <th>std</th>\n",
       "    </tr>\n",
       "    <tr>\n",
       "      <th>date</th>\n",
       "      <th></th>\n",
       "      <th></th>\n",
       "      <th></th>\n",
       "      <th></th>\n",
       "      <th></th>\n",
       "    </tr>\n",
       "  </thead>\n",
       "  <tbody>\n",
       "    <tr>\n",
       "      <th>2021-01-30</th>\n",
       "      <td>8.700006</td>\n",
       "      <td>11.444733</td>\n",
       "      <td>2.744727</td>\n",
       "      <td>9.172954</td>\n",
       "      <td>0.564608</td>\n",
       "    </tr>\n",
       "    <tr>\n",
       "      <th>2021-02-01</th>\n",
       "      <td>2.567557</td>\n",
       "      <td>4.642728</td>\n",
       "      <td>2.075171</td>\n",
       "      <td>4.233779</td>\n",
       "      <td>0.302040</td>\n",
       "    </tr>\n",
       "    <tr>\n",
       "      <th>2021-02-02</th>\n",
       "      <td>1.206398</td>\n",
       "      <td>4.369296</td>\n",
       "      <td>3.162898</td>\n",
       "      <td>2.353047</td>\n",
       "      <td>0.520955</td>\n",
       "    </tr>\n",
       "    <tr>\n",
       "      <th>2021-02-03</th>\n",
       "      <td>5.090485</td>\n",
       "      <td>8.743361</td>\n",
       "      <td>3.652877</td>\n",
       "      <td>5.875230</td>\n",
       "      <td>0.608710</td>\n",
       "    </tr>\n",
       "    <tr>\n",
       "      <th>2021-02-04</th>\n",
       "      <td>0.000020</td>\n",
       "      <td>1.801145</td>\n",
       "      <td>1.801124</td>\n",
       "      <td>0.441124</td>\n",
       "      <td>0.342296</td>\n",
       "    </tr>\n",
       "  </tbody>\n",
       "</table>\n",
       "</div>"
      ],
      "text/plain": [
       "             minimum    maximum     range      mean       std\n",
       "date                                                         \n",
       "2021-01-30  8.700006  11.444733  2.744727  9.172954  0.564608\n",
       "2021-02-01  2.567557   4.642728  2.075171  4.233779  0.302040\n",
       "2021-02-02  1.206398   4.369296  3.162898  2.353047  0.520955\n",
       "2021-02-03  5.090485   8.743361  3.652877  5.875230  0.608710\n",
       "2021-02-04  0.000020   1.801145  1.801124  0.441124  0.342296"
      ]
     },
     "execution_count": 18,
     "metadata": {},
     "output_type": "execute_result"
    }
   ],
   "source": [
    "df_date = df_prec.set_index(\"date\")\n",
    "\n",
    "df_date.head()"
   ]
  },
  {
   "cell_type": "markdown",
   "metadata": {},
   "source": [
    "### *linha do dia '21 de Fevereiro de 2021'*\n",
    "\n",
    "Todas as datas têm um formato **'ano-mês-dia'**.\n",
    "Separados por hifens '-'.\n",
    "Devem, portanto, ser escritas desta forma, sempre que for necessario acessar á linha do dia pretendido. "
   ]
  },
  {
   "cell_type": "code",
   "execution_count": 19,
   "metadata": {},
   "outputs": [
    {
     "data": {
      "text/html": [
       "<div>\n",
       "<style scoped>\n",
       "    .dataframe tbody tr th:only-of-type {\n",
       "        vertical-align: middle;\n",
       "    }\n",
       "\n",
       "    .dataframe tbody tr th {\n",
       "        vertical-align: top;\n",
       "    }\n",
       "\n",
       "    .dataframe thead th {\n",
       "        text-align: right;\n",
       "    }\n",
       "</style>\n",
       "<table border=\"1\" class=\"dataframe\">\n",
       "  <thead>\n",
       "    <tr style=\"text-align: right;\">\n",
       "      <th></th>\n",
       "      <th>minimum</th>\n",
       "      <th>maximum</th>\n",
       "      <th>range</th>\n",
       "      <th>mean</th>\n",
       "      <th>std</th>\n",
       "    </tr>\n",
       "    <tr>\n",
       "      <th>date</th>\n",
       "      <th></th>\n",
       "      <th></th>\n",
       "      <th></th>\n",
       "      <th></th>\n",
       "      <th></th>\n",
       "    </tr>\n",
       "  </thead>\n",
       "  <tbody>\n",
       "    <tr>\n",
       "      <th>2021-02-21</th>\n",
       "      <td>14.800058</td>\n",
       "      <td>25.582304</td>\n",
       "      <td>10.782246</td>\n",
       "      <td>16.25874</td>\n",
       "      <td>1.700256</td>\n",
       "    </tr>\n",
       "  </tbody>\n",
       "</table>\n",
       "</div>"
      ],
      "text/plain": [
       "              minimum    maximum      range      mean       std\n",
       "date                                                           \n",
       "2021-02-21  14.800058  25.582304  10.782246  16.25874  1.700256"
      ]
     },
     "execution_count": 19,
     "metadata": {},
     "output_type": "execute_result"
    }
   ],
   "source": [
    "#variavel com o valor que se quer, neste caso a data\n",
    "fevereiro21 = ['2021-02-21']\n",
    "\n",
    "#bloquear a linha que contem o valor que se pretende \n",
    "df_date.loc[fevereiro21]"
   ]
  },
  {
   "cell_type": "markdown",
   "metadata": {},
   "source": [
    "#### Aqui começamos um conjunto de questões que, cujas respostas tratarão os conjuntos de dados mais relevantes!\n"
   ]
  },
  {
   "cell_type": "markdown",
   "metadata": {},
   "source": [
    "### *Quais os períodos sem precipitação( intervalo de dias)?*"
   ]
  },
  {
   "cell_type": "code",
   "execution_count": 20,
   "metadata": {},
   "outputs": [
    {
     "data": {
      "text/html": [
       "<div>\n",
       "<style scoped>\n",
       "    .dataframe tbody tr th:only-of-type {\n",
       "        vertical-align: middle;\n",
       "    }\n",
       "\n",
       "    .dataframe tbody tr th {\n",
       "        vertical-align: top;\n",
       "    }\n",
       "\n",
       "    .dataframe thead th {\n",
       "        text-align: right;\n",
       "    }\n",
       "</style>\n",
       "<table border=\"1\" class=\"dataframe\">\n",
       "  <thead>\n",
       "    <tr style=\"text-align: right;\">\n",
       "      <th></th>\n",
       "      <th>minimum</th>\n",
       "      <th>maximum</th>\n",
       "      <th>range</th>\n",
       "      <th>mean</th>\n",
       "      <th>std</th>\n",
       "    </tr>\n",
       "    <tr>\n",
       "      <th>date</th>\n",
       "      <th></th>\n",
       "      <th></th>\n",
       "      <th></th>\n",
       "      <th></th>\n",
       "      <th></th>\n",
       "    </tr>\n",
       "  </thead>\n",
       "  <tbody>\n",
       "    <tr>\n",
       "      <th>2021-02-27</th>\n",
       "      <td>0.0</td>\n",
       "      <td>0.0</td>\n",
       "      <td>0.0</td>\n",
       "      <td>0.0</td>\n",
       "      <td>0.0</td>\n",
       "    </tr>\n",
       "    <tr>\n",
       "      <th>2021-03-02</th>\n",
       "      <td>0.0</td>\n",
       "      <td>0.0</td>\n",
       "      <td>0.0</td>\n",
       "      <td>0.0</td>\n",
       "      <td>0.0</td>\n",
       "    </tr>\n",
       "    <tr>\n",
       "      <th>2021-03-08</th>\n",
       "      <td>0.0</td>\n",
       "      <td>0.0</td>\n",
       "      <td>0.0</td>\n",
       "      <td>0.0</td>\n",
       "      <td>0.0</td>\n",
       "    </tr>\n",
       "    <tr>\n",
       "      <th>2021-03-09</th>\n",
       "      <td>0.0</td>\n",
       "      <td>0.0</td>\n",
       "      <td>0.0</td>\n",
       "      <td>0.0</td>\n",
       "      <td>0.0</td>\n",
       "    </tr>\n",
       "    <tr>\n",
       "      <th>2021-03-10</th>\n",
       "      <td>0.0</td>\n",
       "      <td>0.0</td>\n",
       "      <td>0.0</td>\n",
       "      <td>0.0</td>\n",
       "      <td>0.0</td>\n",
       "    </tr>\n",
       "    <tr>\n",
       "      <th>2021-03-16</th>\n",
       "      <td>0.0</td>\n",
       "      <td>0.0</td>\n",
       "      <td>0.0</td>\n",
       "      <td>0.0</td>\n",
       "      <td>0.0</td>\n",
       "    </tr>\n",
       "    <tr>\n",
       "      <th>2021-03-17</th>\n",
       "      <td>0.0</td>\n",
       "      <td>0.0</td>\n",
       "      <td>0.0</td>\n",
       "      <td>0.0</td>\n",
       "      <td>0.0</td>\n",
       "    </tr>\n",
       "    <tr>\n",
       "      <th>2021-03-18</th>\n",
       "      <td>0.0</td>\n",
       "      <td>0.0</td>\n",
       "      <td>0.0</td>\n",
       "      <td>0.0</td>\n",
       "      <td>0.0</td>\n",
       "    </tr>\n",
       "    <tr>\n",
       "      <th>2021-03-19</th>\n",
       "      <td>0.0</td>\n",
       "      <td>0.0</td>\n",
       "      <td>0.0</td>\n",
       "      <td>0.0</td>\n",
       "      <td>0.0</td>\n",
       "    </tr>\n",
       "    <tr>\n",
       "      <th>2021-03-20</th>\n",
       "      <td>0.0</td>\n",
       "      <td>0.0</td>\n",
       "      <td>0.0</td>\n",
       "      <td>0.0</td>\n",
       "      <td>0.0</td>\n",
       "    </tr>\n",
       "    <tr>\n",
       "      <th>2021-03-22</th>\n",
       "      <td>0.0</td>\n",
       "      <td>0.0</td>\n",
       "      <td>0.0</td>\n",
       "      <td>0.0</td>\n",
       "      <td>0.0</td>\n",
       "    </tr>\n",
       "    <tr>\n",
       "      <th>2021-03-27</th>\n",
       "      <td>0.0</td>\n",
       "      <td>0.0</td>\n",
       "      <td>0.0</td>\n",
       "      <td>0.0</td>\n",
       "      <td>0.0</td>\n",
       "    </tr>\n",
       "    <tr>\n",
       "      <th>2021-03-28</th>\n",
       "      <td>0.0</td>\n",
       "      <td>0.0</td>\n",
       "      <td>0.0</td>\n",
       "      <td>0.0</td>\n",
       "      <td>0.0</td>\n",
       "    </tr>\n",
       "    <tr>\n",
       "      <th>2021-03-30</th>\n",
       "      <td>0.0</td>\n",
       "      <td>0.0</td>\n",
       "      <td>0.0</td>\n",
       "      <td>0.0</td>\n",
       "      <td>0.0</td>\n",
       "    </tr>\n",
       "    <tr>\n",
       "      <th>2021-03-31</th>\n",
       "      <td>0.0</td>\n",
       "      <td>0.0</td>\n",
       "      <td>0.0</td>\n",
       "      <td>0.0</td>\n",
       "      <td>0.0</td>\n",
       "    </tr>\n",
       "    <tr>\n",
       "      <th>2021-04-18</th>\n",
       "      <td>0.0</td>\n",
       "      <td>0.0</td>\n",
       "      <td>0.0</td>\n",
       "      <td>0.0</td>\n",
       "      <td>0.0</td>\n",
       "    </tr>\n",
       "  </tbody>\n",
       "</table>\n",
       "</div>"
      ],
      "text/plain": [
       "            minimum  maximum  range  mean  std\n",
       "date                                          \n",
       "2021-02-27      0.0      0.0    0.0   0.0  0.0\n",
       "2021-03-02      0.0      0.0    0.0   0.0  0.0\n",
       "2021-03-08      0.0      0.0    0.0   0.0  0.0\n",
       "2021-03-09      0.0      0.0    0.0   0.0  0.0\n",
       "2021-03-10      0.0      0.0    0.0   0.0  0.0\n",
       "2021-03-16      0.0      0.0    0.0   0.0  0.0\n",
       "2021-03-17      0.0      0.0    0.0   0.0  0.0\n",
       "2021-03-18      0.0      0.0    0.0   0.0  0.0\n",
       "2021-03-19      0.0      0.0    0.0   0.0  0.0\n",
       "2021-03-20      0.0      0.0    0.0   0.0  0.0\n",
       "2021-03-22      0.0      0.0    0.0   0.0  0.0\n",
       "2021-03-27      0.0      0.0    0.0   0.0  0.0\n",
       "2021-03-28      0.0      0.0    0.0   0.0  0.0\n",
       "2021-03-30      0.0      0.0    0.0   0.0  0.0\n",
       "2021-03-31      0.0      0.0    0.0   0.0  0.0\n",
       "2021-04-18      0.0      0.0    0.0   0.0  0.0"
      ]
     },
     "execution_count": 20,
     "metadata": {},
     "output_type": "execute_result"
    }
   ],
   "source": [
    "#variavel com o valor que se quer dentro da coluna 'mean' \n",
    "no_precipitação = df_date['mean']==0\n",
    "\n",
    "#bloquear todas as linhas que tenham o valor pretendido \n",
    "df_date.loc[no_precipitação]"
   ]
  },
  {
   "cell_type": "markdown",
   "metadata": {},
   "source": [
    "### *Qual o dia com maior precipitação?*"
   ]
  },
  {
   "cell_type": "code",
   "execution_count": 35,
   "metadata": {},
   "outputs": [
    {
     "ename": "TypeError",
     "evalue": "'str' object is not callable",
     "output_type": "error",
     "traceback": [
      "\u001b[1;31m---------------------------------------------------------------------------\u001b[0m",
      "\u001b[1;31mTypeError\u001b[0m                                 Traceback (most recent call last)",
      "\u001b[1;32m<ipython-input-35-f455aa8a83b3>\u001b[0m in \u001b[0;36m<module>\u001b[1;34m\u001b[0m\n\u001b[0;32m      3\u001b[0m \u001b[1;33m\u001b[0m\u001b[0m\n\u001b[0;32m      4\u001b[0m \u001b[1;31m#procurar o valor maior\u001b[0m\u001b[1;33m\u001b[0m\u001b[1;33m\u001b[0m\u001b[1;33m\u001b[0m\u001b[0m\n\u001b[1;32m----> 5\u001b[1;33m \u001b[0mprint\u001b[0m\u001b[1;33m(\u001b[0m\u001b[1;34m'Dia com maior precipitação: '\u001b[0m\u001b[1;33m,\u001b[0m \u001b[0mmax\u001b[0m\u001b[1;33m(\u001b[0m\u001b[0mmediaList\u001b[0m\u001b[1;33m)\u001b[0m\u001b[1;33m)\u001b[0m\u001b[1;33m\u001b[0m\u001b[1;33m\u001b[0m\u001b[0m\n\u001b[0m\u001b[0;32m      6\u001b[0m \u001b[1;33m\u001b[0m\u001b[0m\n\u001b[0;32m      7\u001b[0m \u001b[1;31m#com o valor maior, bloqueamos a linha que lhe corresponde para obtermos o dia\u001b[0m\u001b[1;33m\u001b[0m\u001b[1;33m\u001b[0m\u001b[1;33m\u001b[0m\u001b[0m\n",
      "\u001b[1;31mTypeError\u001b[0m: 'str' object is not callable"
     ]
    }
   ],
   "source": [
    "#definir a coluna de media como lista \n",
    "mediaList = df_date['mean'].tolist()\n",
    "\n",
    "#procurar o valor maior \n",
    "print('Dia com maior precipitação: ', max(mediaList))\n",
    "\n",
    "#com o valor maior, bloqueamos a linha que lhe corresponde para obtermos o dia \n",
    "max_precipitação = df_date['mean']==39.5844727858\n",
    "\n",
    "df_date.loc[max_precipitação]"
   ]
  },
  {
   "cell_type": "markdown",
   "metadata": {},
   "source": [
    "### *Qual a maior variação(amplitude) entre mínimo e máximo?*"
   ]
  },
  {
   "cell_type": "code",
   "execution_count": 8,
   "metadata": {},
   "outputs": [
    {
     "name": "stdout",
     "output_type": "stream",
     "text": [
      "A data com maior variação de amplitude foi a: 2021-04-10\n",
      "E a variação foi de: 21.651114463800003\n"
     ]
    }
   ],
   "source": [
    "#variável max vai ser igual ao indíce que represente o maior valor da coluna \"range\"\n",
    "#como foi usado df_date o indice vai ser igual ao dia\n",
    "max = (df_date['range'].idxmax())\n",
    "\n",
    "#variável max_index vai fazer a mesma coisa mas por usar o df_prec vai representar o número da fila\n",
    "max_index = (df_prec['range'].idxmax())\n",
    "\n",
    "print(\"A data com maior variação de amplitude foi a:\",(max))\n",
    "\n",
    "print(\"E a variação foi de:\",(df_prec.iloc[max_index,3]))"
   ]
  },
  {
   "cell_type": "markdown",
   "metadata": {},
   "source": [
    "### *Qual o maior mínimo e maior máximo?*"
   ]
  },
  {
   "cell_type": "code",
   "execution_count": 24,
   "metadata": {},
   "outputs": [
    {
     "ename": "TypeError",
     "evalue": "'str' object is not callable",
     "output_type": "error",
     "traceback": [
      "\u001b[1;31m---------------------------------------------------------------------------\u001b[0m",
      "\u001b[1;31mTypeError\u001b[0m                                 Traceback (most recent call last)",
      "\u001b[1;32m<ipython-input-24-980d9a20e3cd>\u001b[0m in \u001b[0;36m<module>\u001b[1;34m\u001b[0m\n\u001b[0;32m      4\u001b[0m \u001b[1;33m\u001b[0m\u001b[0m\n\u001b[0;32m      5\u001b[0m \u001b[1;31m#maximo das listas\u001b[0m\u001b[1;33m\u001b[0m\u001b[1;33m\u001b[0m\u001b[1;33m\u001b[0m\u001b[0m\n\u001b[1;32m----> 6\u001b[1;33m \u001b[0mprint\u001b[0m\u001b[1;33m(\u001b[0m\u001b[1;34m'Maior minimo de precipitação: '\u001b[0m\u001b[1;33m,\u001b[0m \u001b[0mmax\u001b[0m\u001b[1;33m(\u001b[0m\u001b[0mminimoList\u001b[0m\u001b[1;33m)\u001b[0m\u001b[1;33m)\u001b[0m\u001b[1;33m\u001b[0m\u001b[1;33m\u001b[0m\u001b[0m\n\u001b[0m\u001b[0;32m      7\u001b[0m \u001b[0mprint\u001b[0m\u001b[1;33m(\u001b[0m\u001b[1;34m'Maior maximo de precipitação: '\u001b[0m\u001b[1;33m,\u001b[0m \u001b[0mmax\u001b[0m \u001b[1;33m(\u001b[0m\u001b[0mmaximoList\u001b[0m\u001b[1;33m)\u001b[0m\u001b[1;33m)\u001b[0m\u001b[1;33m\u001b[0m\u001b[1;33m\u001b[0m\u001b[0m\n",
      "\u001b[1;31mTypeError\u001b[0m: 'str' object is not callable"
     ]
    }
   ],
   "source": [
    "#definir os valores das colunas em listas\n",
    "maximoList = df_date ['maximum'].tolist()\n",
    "minimoList = df_date ['minimum'].tolist()\n",
    "\n",
    "#maximo das listas\n",
    "print('Maior minimo de precipitação: ', max(minimoList))\n",
    "print('Maior maximo de precipitação: ', max (maximoList))\n"
   ]
  },
  {
   "cell_type": "markdown",
   "metadata": {},
   "source": [
    "### *Qual a data com maior desvio padrão(mais longe da previsão)?*"
   ]
  },
  {
   "cell_type": "code",
   "execution_count": 25,
   "metadata": {},
   "outputs": [
    {
     "name": "stdout",
     "output_type": "stream",
     "text": [
      "A data com maior desvio padrão ocorreu em :  2021-04-10\n",
      "E o desvio foi correspondente a: 4.66783481212\n"
     ]
    }
   ],
   "source": [
    "#variável max vai ser igual ao indíce que represente o maior valor da coluna \"std\"\n",
    "#como foi usado df_date o indice vai ser igual ao dia\n",
    "max = (df_date['std'].idxmax())\n",
    "\n",
    "#variável max_index vai fazer a mesma coisa mas por usar o df_prec vai representar o número da fila\n",
    "max_index = (df_prec['std'].idxmax())\n",
    "\n",
    "print(\"A data com maior desvio padrão ocorreu em : \",(max))\n",
    "print(\"E o desvio foi correspondente a:\",(df_prec.iloc[max_index,5]))"
   ]
  },
  {
   "cell_type": "markdown",
   "metadata": {},
   "source": [
    "### *Gráfico com os valores de minimo e máximo de percipitação do mês de Março*"
   ]
  },
  {
   "cell_type": "code",
   "execution_count": 34,
   "metadata": {},
   "outputs": [
    {
     "data": {
      "image/png": "[encoded data removed]",
      "text/plain": [
       "<Figure size 432x288 with 1 Axes>"
      ]
     },
     "metadata": {
      "needs_background": "light"
     },
     "output_type": "display_data"
    }
   ],
   "source": [
    "#definição de valores X\n",
    "df_marco=df_prec['date'].between('2021-03', '2021-04', inclusive=True)\n",
    "marco = df_prec[df_marco]\n",
    "\n",
    "marcoList = marco['date'].tolist()\n",
    "\n",
    "#definição de listas para valores de y\n",
    "maximoList = marco['maximum'].tolist()\n",
    "minimoList = marco['minimum'].tolist()\n",
    "\n",
    "plt.plot(marcoList, maximoList, label= 'Valores Maximos', linewidth=3)\n",
    "plt.plot(marcoList, minimoList, label= 'Valores Minimos', linewidth = 3)\n",
    "\n",
    "#lebels \n",
    "plt.xticks(rotation=45)\n",
    "plt.xlabel('Março')\n",
    "plt.ylabel('valores de Precipitação em mm')\n",
    "plt.title ('Precipitação em Coimbra no mês de Março de 2021')\n",
    "plt.legend(loc='upper right')\n",
    "\n",
    "plt.show()"
   ]
  },
  {
   "cell_type": "markdown",
   "metadata": {},
   "source": [
    "### *Analisando os dados, neste período de tempo qual foi a percentagem de dias de chuva?*"
   ]
  },
  {
   "cell_type": "code",
   "execution_count": 28,
   "metadata": {},
   "outputs": [
    {
     "name": "stdout",
     "output_type": "stream",
     "text": [
      "No período de tempo registado, a percentagem de dias de chuva foi: 81.17647058823529 %\n"
     ]
    }
   ],
   "source": [
    "#todos os valores maiores que 0\n",
    "df_dados = df_prec[(df_prec['mean'] > 0)]\n",
    "\n",
    "#variavel total que é todo o comprimento da coluna 'mean', quantos indices têm os dados \n",
    "total = df_prec.index.size\n",
    "#variavel df_chuva com todo o comprimento da variavel com valores maiores que 0 (df_dados)\n",
    "df_chuva = df_dados.index.size\n",
    "\n",
    "#prec é a variavel que calcula a percentagem \n",
    "#valores maiores que 0 multiplica por 100 e divide pelo total de todos os valores\n",
    "prec = (df_chuva * 100)/(total)\n",
    "\n",
    "print(\"No período de tempo registado, a percentagem de dias de chuva foi:\", prec,\"%\")"
   ]
  },
  {
   "cell_type": "markdown",
   "metadata": {},
   "source": [
    "### *Analisando os dados, neste período de tempo qual foi a percentagem de dias sem chuva?*"
   ]
  },
  {
   "cell_type": "code",
   "execution_count": 29,
   "metadata": {},
   "outputs": [
    {
     "name": "stdout",
     "output_type": "stream",
     "text": [
      "No período de tempo registado, a percentagem de dias de chuva foi: 18.823529411764707 %\n"
     ]
    }
   ],
   "source": [
    "#todos os valores iguais a 0\n",
    "df_dados = df_prec[(df_prec['mean'] == 0)]\n",
    "\n",
    "#variavel total que é todo o comprimento da coluna 'mean'\n",
    "total = df_prec.index.size\n",
    "#variavel df_semchuva com todo o comprimento da variavel com valores iguais a 0 (df_dados)\n",
    "df_semchuva = df_dados.index.size\n",
    "\n",
    "#sem_prec é a variavel que calcula a percentagem \n",
    "#total dos valores iguais a 0 multiplica por 100 e divide pelo total de todos os valores\n",
    "sem_prec = (df_semchuva * 100)/(total)\n",
    "\n",
    "print(\"No período de tempo registado, a percentagem de dias de chuva foi:\", sem_prec,\"%\")"
   ]
  },
  {
   "cell_type": "markdown",
   "metadata": {},
   "source": [
    "### *Gráfico de percentagem de dias com e sem precipitação*"
   ]
  },
  {
   "cell_type": "code",
   "execution_count": 31,
   "metadata": {},
   "outputs": [
    {
     "data": {
      "image/png": "[encoded data removed]",
      "text/plain": [
       "<Figure size 432x288 with 1 Axes>"
      ]
     },
     "metadata": {},
     "output_type": "display_data"
    }
   ],
   "source": [
    "#definir os dados para inserir no grafico\n",
    "ListaTotal = [prec, sem_prec]\n",
    "Labels = ['Com Precipitação','Sem Precipitação']\n",
    "\n",
    "#definir o grafico (dados, labels, percentagem)\n",
    "plt.pie(ListaTotal, labels=Labels, autopct=\"%0.0f %%\")\n",
    "\n",
    "#labels do grafico\n",
    "plt.title('Percentagens de dias com e sem Precipitação')\n",
    "plt.legend(loc='upper right')\n",
    "plt.axis(\"equal\")\n",
    "\n",
    "#mostrar o grafico\n",
    "plt.show()"
   ]
  },
  {
   "cell_type": "markdown",
   "metadata": {},
   "source": [
    "### *Gráfico da precipitação média em Coimbra nos meses de Janeiro a Abril*"
   ]
  },
  {
   "cell_type": "code",
   "execution_count": 32,
   "metadata": {},
   "outputs": [
    {
     "data": {
      "image/png": "[encoded data removed]",
      "text/plain": [
       "<Figure size 432x288 with 1 Axes>"
      ]
     },
     "metadata": {
      "needs_background": "light"
     },
     "output_type": "display_data"
    }
   ],
   "source": [
    "#Definir o eixo X\n",
    "df_jan=df_prec['date'].between('2021-01', '2021-02', inclusive=True)\n",
    "jan = df_prec[df_jan]\n",
    "df_janmedia = jan[\"mean\"]\n",
    "mediajan = df_janmedia.mean()\n",
    "\n",
    "df_fev=df_prec['date'].between('2021-02', '2021-03', inclusive=True)\n",
    "fev = df_prec[df_fev]\n",
    "df_fevmedia = fev['mean']\n",
    "mediafev = df_fevmedia.mean()\n",
    "\n",
    "df_marco=df_prec['date'].between('2021-03', '2021-04', inclusive=True)\n",
    "marco = df_prec[df_marco]\n",
    "df_marcomedia = marco['mean']\n",
    "mediamarco = df_marcomedia.mean()\n",
    "\n",
    "df_abr=df_prec['date'].between('2021-04', '2021-05', inclusive=True)\n",
    "abr = df_prec[df_abr]\n",
    "df_abrmedia = abr['mean']\n",
    "mediaabr = df_abrmedia.mean()\n",
    "\n",
    "medias = [mediajan,mediafev,mediamarco,mediaabr]\n",
    "\n",
    "# Definir o eixo Y\n",
    "meses = ['Janeiro', 'Fevereiro', 'Março', 'Abril']\n",
    "\n",
    "#grafico de barras horizontais \n",
    "plt.barh(meses, medias)\n",
    "\n",
    "#Labels\n",
    "plt.ylabel(\"Meses do ano\")\n",
    "plt.xlabel(\"valores médios de Precipitação (em mm)\")\n",
    "plt.title(\"Precipitação em coimbra nos meses de Janeiro a Abril\")\n",
    "\n",
    "plt.show()"
   ]
  },
  {
   "cell_type": "code",
   "execution_count": null,
   "metadata": {},
   "outputs": [],
   "source": []
  }
 ],
 "metadata": {
  "kernelspec": {
   "display_name": "Python 3",
   "language": "python",
   "name": "python3"
  },
  "language_info": {
   "codemirror_mode": {
    "name": "ipython",
    "version": 3
   },
   "file_extension": ".py",
   "mimetype": "text/x-python",
   "name": "python",
   "nbconvert_exporter": "python",
   "pygments_lexer": "ipython3",
   "version": "3.8.5"
  }
 },
 "nbformat": 4,
 "nbformat_minor": 4
}
